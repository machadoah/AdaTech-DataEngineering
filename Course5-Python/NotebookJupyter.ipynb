{
 "cells": [
  {
   "attachments": {},
   "cell_type": "markdown",
   "metadata": {},
   "source": [
    "### Entrada e saida de dados"
   ]
  },
  {
   "attachments": {},
   "cell_type": "markdown",
   "metadata": {},
   "source": [
    "`print` representa o comando de impressão, ou seja, de saída do algoritmo\n",
    "\n",
    "`input` representa o comando de leitura, ou seja, de entrada de dados no algoritmo"
   ]
  },
  {
   "cell_type": "code",
   "execution_count": 2,
   "metadata": {},
   "outputs": [
    {
     "name": "stdout",
     "output_type": "stream",
     "text": [
      "Olá Antonio você cursa ADS está no 4º semestre de 6 totais, na intituição de ensino Fatec-PG \n"
     ]
    }
   ],
   "source": [
    "nome = input(\"Insira seu nome: \")\n",
    "curso = input(\"Forneça a siga do seu curso: (e.g. Gestão Empresarial = GE)\")\n",
    "semestreAtualCurso = input(\"Qual o seu semestre atual? \")\n",
    "semestresCurso = input(\"Qual a quantidade total de semestres do seu curso? \")\n",
    "instituicaoDeEnsino = input(\"Qual faculdade você estuda? \")\n",
    "\n",
    "print(\"Olá {} você cursa {} está no {}º semestre de {} totais, na intituição de ensino {} \".format(nome, curso, semestreAtualCurso, semestresCurso, instituicaoDeEnsino))"
   ]
  }
 ],
 "metadata": {
  "kernelspec": {
   "display_name": "Python 3",
   "language": "python",
   "name": "python3"
  },
  "language_info": {
   "codemirror_mode": {
    "name": "ipython",
    "version": 3
   },
   "file_extension": ".py",
   "mimetype": "text/x-python",
   "name": "python",
   "nbconvert_exporter": "python",
   "pygments_lexer": "ipython3",
   "version": "3.11.0"
  },
  "orig_nbformat": 4
 },
 "nbformat": 4,
 "nbformat_minor": 2
}
